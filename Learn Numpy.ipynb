{
 "cells": [
  {
   "cell_type": "code",
   "execution_count": 1,
   "id": "04271c27",
   "metadata": {},
   "outputs": [
    {
     "name": "stdout",
     "output_type": "stream",
     "text": [
      "[1 2 3]\n",
      "[1 2 3]\n"
     ]
    },
    {
     "data": {
      "text/plain": [
       "12"
      ]
     },
     "execution_count": 1,
     "metadata": {},
     "output_type": "execute_result"
    }
   ],
   "source": [
    "import numpy as np\n",
    "a=np.array([1,2,3])\n",
    "print(a)\n",
    "b=np.array([[9.0,8.0,7.0],[6.0,5.0,4.0]])\n",
    "print(a)\n",
    "#Get dimension\n",
    "a.ndim\n",
    "#Get shape\n",
    "a.shape\n",
    "#Get type\n",
    "a.dtype\n",
    "#Get size\n",
    "a.itemsize\n",
    "#Get total size\n",
    "a.nbytes"
   ]
  },
  {
   "cell_type": "code",
   "execution_count": null,
   "id": "f51f3a5a",
   "metadata": {},
   "outputs": [],
   "source": [
    "#Accessing/Changing specific elements, rows, columns, etc\n",
    "a=np.array([[1,2,3,4,5,6,7],[8,9,10,11,12,13,14]])\n",
    "print(a)"
   ]
  },
  {
   "cell_type": "code",
   "execution_count": null,
   "id": "6ccbe7c6",
   "metadata": {},
   "outputs": [],
   "source": [
    "#Get a specific element[r,c]\n",
    "a[1,-2]\n",
    "#Get a specific row\n",
    "a[0,:]\n",
    "#Get a specific column\n",
    "a[:,2]\n",
    "# a circle more fancy [startindex:endindex:stesize]\n",
    "a[0,1:6:2]\n",
    "a[0,1:-1:2]\n"
   ]
  },
  {
   "cell_type": "code",
   "execution_count": null,
   "id": "66de4f8d",
   "metadata": {},
   "outputs": [],
   "source": [
    "a[1,5]=20\n",
    "print(a)\n",
    "\n",
    "a[:,2]=[1,2]\n",
    "print(a)\n",
    "\n",
    "b[:,1,:]"
   ]
  },
  {
   "cell_type": "code",
   "execution_count": null,
   "id": "473e8a39",
   "metadata": {},
   "outputs": [],
   "source": [
    "#replace\n",
    "b[:,1,:]=[[9,9,9],[8,8]]"
   ]
  },
  {
   "cell_type": "code",
   "execution_count": null,
   "id": "9501e030",
   "metadata": {},
   "outputs": [],
   "source": [
    "#initialising different types of arrays\n",
    "np.zeros((2,3,3,2))\n",
    "np.ones((4,2,2),dtype='int32')"
   ]
  },
  {
   "cell_type": "code",
   "execution_count": null,
   "id": "9f7afd8a",
   "metadata": {},
   "outputs": [],
   "source": [
    "#Any other number\n",
    "np.full((2,2),99)\n",
    "np.full_like(a,4)"
   ]
  },
  {
   "cell_type": "code",
   "execution_count": null,
   "id": "613f8a2e",
   "metadata": {},
   "outputs": [],
   "source": [
    "#random decimal numbers\n",
    "np.random.rand(4,2,3)\n",
    "np.random.rand(a.shape)\n",
    "\n",
    "#ranom integer values\n",
    "np.random.randint(-4,8,size=(3,3))\n",
    "\n",
    "np.identity(5)\n",
    "\n",
    "\n",
    "arr=np.array([[1,2,3]])\n",
    "r1=np.repeat(arr,3,axis=0)\n",
    "print(r1)\n",
    "\n",
    "output=np.ones((5,5))\n",
    "print(output)\n",
    "\n",
    "z=np.zeros((3,3))\n",
    "z[1,1]=9\n",
    "\n",
    "output[1:-1,1:-1]=z\n",
    "prnt(output)\n",
    "\n",
    "a=np.array([1,2,3])\n",
    "b=a.copy()\n",
    "b[0]=100\n",
    "print(a)"
   ]
  },
  {
   "cell_type": "code",
   "execution_count": null,
   "id": "042a2048",
   "metadata": {},
   "outputs": [],
   "source": []
  },
  {
   "cell_type": "code",
   "execution_count": null,
   "id": "c508a927",
   "metadata": {},
   "outputs": [],
   "source": []
  },
  {
   "cell_type": "code",
   "execution_count": null,
   "id": "38d1ccc4",
   "metadata": {},
   "outputs": [],
   "source": []
  }
 ],
 "metadata": {
  "kernelspec": {
   "display_name": "Python 3 (ipykernel)",
   "language": "python",
   "name": "python3"
  },
  "language_info": {
   "codemirror_mode": {
    "name": "ipython",
    "version": 3
   },
   "file_extension": ".py",
   "mimetype": "text/x-python",
   "name": "python",
   "nbconvert_exporter": "python",
   "pygments_lexer": "ipython3",
   "version": "3.9.12"
  }
 },
 "nbformat": 4,
 "nbformat_minor": 5
}
